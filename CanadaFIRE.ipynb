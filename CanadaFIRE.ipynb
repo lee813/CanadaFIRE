{
  "nbformat": 4,
  "nbformat_minor": 0,
  "metadata": {
    "colab": {
      "provenance": [],
      "authorship_tag": "ABX9TyME/0ncJZIHSnxjso8mzbUA",
      "include_colab_link": true
    },
    "kernelspec": {
      "name": "python3",
      "display_name": "Python 3"
    },
    "language_info": {
      "name": "python"
    }
  },
  "cells": [
    {
      "cell_type": "markdown",
      "metadata": {
        "id": "view-in-github",
        "colab_type": "text"
      },
      "source": [
        "<a href=\"https://colab.research.google.com/github/lee813/CanadaFIRE/blob/main/CanadaFIRE.ipynb\" target=\"_parent\"><img src=\"https://colab.research.google.com/assets/colab-badge.svg\" alt=\"Open In Colab\"/></a>"
      ]
    },
    {
      "cell_type": "code",
      "execution_count": null,
      "metadata": {
        "id": "qZhQbG0tZeAM"
      },
      "outputs": [],
      "source": []
    },
    {
      "cell_type": "markdown",
      "source": [
        "# CanadaFIRE 🇨🇦🔥\n",
        "\n",
        "## Financial Independence, Retire Early (FIRE) in Canada 💰🏖️\n",
        "\n",
        "### 概述\n",
        "\n",
        "在这里讨论在加拿大提前退休的一些问题，尽量做到有实际数据，有预测，用数据说话。目标是帮助那些希望通过财务独立实现早期退休的加拿大人，做出明智的决定。\n",
        "\n",
        "### 前提条件\n",
        "\n",
        "1. 基于对资本主义制度的信任\n",
        "2. 以美元的全球主导地位为前提\n",
        "3. 以统计学概率为依据\n",
        "4. 具备较高的数学、金融和计算机知识\n",
        "5. 不符合以上条件者，建议离开\n",
        "### 财务\n",
        "\n",
        "#### 购买美国分红ETF\n",
        "\n",
        "目前很多人讨论FIRE主要聚焦在怎么省钱，其实有个很好的办法可以实现财产的增长同时又能享受生活。这个方法就是分红。分红可以带来两部分收益：\n",
        "\n",
        "1. 资产增值 📈\n",
        "2. 分红/股息收益 💵\n",
        "\n",
        "##### 为什么要分红收益？\n",
        "\n",
        "1. **保护本金**: 不用从本金中取钱，FIRE提倡每年从总资产拿3%-4%，但在资本主义里，最怕的就是资本减少。\n",
        "2. **税收优势**: 分红税相对较低。\n",
        "3. **抗通胀**: 分红一般会随通胀调整，保持购买力。\n",
        "\n",
        "##### 为什么要购买美国的ETF\n",
        "1. 美国是世界金融中心\n",
        "2. 有健全的经济，政治体制\n",
        "3. 海洋法系国家\n",
        "4. 与世界上大部分发达国家有税务条约(Tax Treaty)\n",
        "\n",
        "##### 下面挑几个高分红ETF来解释下\n",
        "\n",
        "\n",
        "### 目的地\n",
        "\n",
        "虽然讨论的背景是加拿大，但得出的结论是不应该在加拿大退休。\n",
        "\n",
        "#### 为什么不在加拿大退休\n",
        "\n",
        "1. **高税收**: 想要过上较好的生活，需缴纳至少30%的税 💸\n",
        "2. **医疗系统差**: 急诊等待时间超过13小时，虽然免费但效率和质量都不理想 🏥\n",
        "3. **气候不好**: 退休生活应选择气候更宜人的地方 🌧️❄️\n",
        "\n",
        "#### 应该如何选择退休地点\n",
        "\n",
        "* **Rule #1**: 选择退休后，被动收入能达到当地收入水平90百分位，即富裕阶层 💵\n",
        "* **Rule #2**: 稳定的政治体制、健全的法制和安全的社会条件 🛡️⚖️\n",
        "* **Rule #3**: 优秀的医疗条件 🏥\n",
        "* **Rule #4**: 低廉的税率 📉\n",
        "* **Rule #5**: 地缘政治稳定，没有战争风险\n",
        "\n",
        "#### 备选方案\n",
        "\n",
        "* 日本\n",
        "  ##### 优势：\n",
        "    - 宜人的气候\n",
        "    - 相对低的税率\n",
        "    - 先进的文化\n",
        "    - 服务业发达，服务质量高\n",
        "  \n",
        "  ##### 劣势：\n",
        "    - 地震\n",
        "    - 地缘政治不稳定\n",
        "\n",
        "\n",
        "* 葡萄牙\n",
        "* 马来西亚\n",
        "\n",
        "\n",
        "### 加拿大人在日本退休\n",
        "讨论财务，税务，身份签证\n",
        "\n",
        "#### 财务\n"
      ],
      "metadata": {
        "id": "iQGiy1RXZzmS"
      }
    }
  ]
}